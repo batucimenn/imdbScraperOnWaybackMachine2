{
 "cells": [
  {
   "cell_type": "markdown",
   "metadata": {},
   "source": [
    "Scraper movies data from Imdb"
   ]
  },
  {
   "cell_type": "code",
   "execution_count": null,
   "metadata": {},
   "outputs": [],
   "source": [
    "import csv\n",
    "import pandas as pd"
   ]
  },
  {
   "cell_type": "markdown",
   "metadata": {},
   "source": [
    "Year range to collect data."
   ]
  },
  {
   "cell_type": "code",
   "execution_count": null,
   "metadata": {},
   "outputs": [],
   "source": [
    "startYear=int(input(\"startYear: \"))\n",
    "finishYear=int(input(\"finishYear: \"))"
   ]
  },
  {
   "cell_type": "markdown",
   "metadata": {},
   "source": [
    "File path to save. Ex: C:\\Users\\User\\Desktop\\newFile"
   ]
  },
  {
   "cell_type": "code",
   "execution_count": null,
   "metadata": {},
   "outputs": [],
   "source": [
    "filePath = input(\"File path: \"+\"r'\")+(\"/\")"
   ]
  },
  {
   "cell_type": "markdown",
   "metadata": {},
   "source": [
    "Create csv and set the titles."
   ]
  },
  {
   "cell_type": "code",
   "execution_count": null,
   "metadata": {},
   "outputs": [],
   "source": [
    "with open(filePath+str(startYear)+\"_\"+str(finishYear)+\".csv\", mode='w', newline='') as yeni_dosya:\n",
    "    yeni_yazici = csv.writer(yeni_dosya, delimiter=',', quotechar='\"', quoting=csv.QUOTE_MINIMAL) \n",
    "    yeni_yazici.writerow(['Title'+\";\"+'Film'+\";\"+'Year'])\n",
    "    yeni_dosya.close()"
   ]
  },
  {
   "cell_type": "markdown",
   "metadata": {},
   "source": [
    "Download title.basics.tsv.gz from https://datasets.imdbws.com/. Extract data.tsv, print it into csv."
   ]
  },
  {
   "cell_type": "code",
   "execution_count": null,
   "metadata": {},
   "outputs": [],
   "source": [
    "with open(\"data.tsv\",encoding=\"utf8\") as tsvfile:\n",
    "    tsvreader = csv.reader(tsvfile, delimiter=\"\\t\")      \n",
    "    for line in tsvreader:\n",
    "        try:\n",
    "            ceviri=int(line[5])\n",
    "            if(ceviri>=startYear and ceviri<=finishYear and (line[1]==\"movie\" or line[1]==\"tvMovie\")):               \n",
    "                print(line[0]+\";\"+line[3]+\";\"+line[5]+\";\"+line[1])                \n",
    "                line0=line[0].replace(\"\\\"\",\"\")\n",
    "                line5=line[5].replace(\"\\\"\",\"\")      \n",
    "                with open(filePath+str(startYear)+\"_\"+str(finishYear)+\".csv\", mode='a', newline='') as yeni_dosya:\n",
    "                    yeni_yazici = csv.writer(yeni_dosya, delimiter=',', quotechar='\"', quoting=csv.QUOTE_MINIMAL) \n",
    "                    yeni_yazici.writerow([line0+\";\"+line[3]+\";\"+line5])\n",
    "                    yeni_dosya.close()\n",
    "        except:\n",
    "            pass  "
   ]
  }
 ],
 "metadata": {
  "kernelspec": {
   "display_name": "Python 3",
   "language": "python",
   "name": "python3"
  },
  "language_info": {
   "codemirror_mode": {
    "name": "ipython",
    "version": 3
   },
   "file_extension": ".py",
   "mimetype": "text/x-python",
   "name": "python",
   "nbconvert_exporter": "python",
   "pygments_lexer": "ipython3",
   "version": "3.8.3"
  }
 },
 "nbformat": 4,
 "nbformat_minor": 4
}
