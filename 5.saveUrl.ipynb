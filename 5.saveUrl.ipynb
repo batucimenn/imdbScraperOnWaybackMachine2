{
 "cells": [
  {
   "cell_type": "markdown",
   "metadata": {},
   "source": [
    "Adding links to file and writing to csv."
   ]
  },
  {
   "cell_type": "code",
   "execution_count": null,
   "metadata": {},
   "outputs": [],
   "source": [
    "import sys\n",
    "import requests as rq\n",
    "from bs4 import BeautifulSoup as bs\n",
    "import pandas as pd\n",
    "from time import sleep\n",
    "import json\n",
    "import csv\n",
    "import re\n",
    "import os\n",
    "import pandas as pd"
   ]
  },
  {
   "cell_type": "markdown",
   "metadata": {},
   "source": [
    "File path to save. Ex: C:\\Users\\User\\Desktop\\newFolder"
   ]
  },
  {
   "cell_type": "code",
   "execution_count": null,
   "metadata": {},
   "outputs": [],
   "source": [
    "filePath = input(\"File path: \"+\"r'\")"
   ]
  },
  {
   "cell_type": "markdown",
   "metadata": {},
   "source": [
    "According to which csv should the html be collected? Ex: random100"
   ]
  },
  {
   "cell_type": "code",
   "execution_count": null,
   "metadata": {},
   "outputs": [],
   "source": [
    "csvName = input(\"Csv name: \")"
   ]
  },
  {
   "cell_type": "code",
   "execution_count": null,
   "metadata": {},
   "outputs": [],
   "source": [
    "df = pd.read_csv (csvName+'.csv',encoding='latin-1')\n",
    "titleList=[]\n",
    "for i in df:\n",
    "    titleList.append(df[i])\n",
    "    str(titleList)\n",
    "    for i in range(len(df)):\n",
    "        try:\n",
    "            index=titleList[0][i]\n",
    "            film='https://www.imdb.com/title/'+titleList[0][i]\n",
    "            print(film)\n",
    "            os.chdir(filePath)\n",
    "            os.system(\"mkdir \"+index)\n",
    "            url = 'http://web.archive.org/cdx/search/cdx?url='+film+'/&collapse=digest&from=20070228&to=2022&output=json'\n",
    "            urls = rq.get(url).text\n",
    "            parse_url = json.loads(urls)\n",
    "            url_list = []\n",
    "            for i in range(1,len(parse_url)):\n",
    "                try:\n",
    "                    orig_url = parse_url[i][2]\n",
    "                    tstamp = parse_url[i][1]\n",
    "                    waylink = 'https://web.archive.org/web/'+tstamp+'/'+orig_url\n",
    "                    url_list.append(waylink)\n",
    "                except:\n",
    "                    pass\n",
    "            with open(filePath+'/'+index+\"/\"+index+\"_links\"+\".csv\", mode='w', newline='') as yeni_dosya:\n",
    "                yeni_yazici = csv.writer(yeni_dosya, delimiter=',', quotechar='\"', quoting=csv.QUOTE_MINIMAL) \n",
    "                yeni_yazici.writerow(['Links'])\n",
    "                yeni_dosya.close()\n",
    "            for link in url_list:\n",
    "                try:\n",
    "                    with open(filePath+'/'+index+\"/\"+index+\"_links\"+\".csv\", mode='a', newline='') as yeni_dosya:\n",
    "                        yeni_yazici = csv.writer(yeni_dosya, delimiter=',', quotechar='\"', quoting=csv.QUOTE_MINIMAL) \n",
    "                        yeni_yazici.writerow([link])\n",
    "                        yeni_dosya.close()\n",
    "                except:\n",
    "                    pass\n",
    "            for i in range(len(url_list)):\n",
    "                try:\n",
    "                    final_url=url_list[i]\n",
    "                    req = rq.get(final_url).text\n",
    "                    file = open(filePath+\"/\"+index+\"/\"+url_list[i][28:40]+\".html\",\"w\")\n",
    "                    file.write(req)\n",
    "                    file.close()\n",
    "                    sleep(3)\n",
    "                except:\n",
    "                    pass\n",
    "        except:\n",
    "            pass"
   ]
  },
  {
   "cell_type": "code",
   "execution_count": null,
   "metadata": {},
   "outputs": [],
   "source": []
  }
 ],
 "metadata": {
  "kernelspec": {
   "display_name": "Python 3",
   "language": "python",
   "name": "python3"
  },
  "language_info": {
   "codemirror_mode": {
    "name": "ipython",
    "version": 3
   },
   "file_extension": ".py",
   "mimetype": "text/x-python",
   "name": "python",
   "nbconvert_exporter": "python",
   "pygments_lexer": "ipython3",
   "version": "3.8.3"
  }
 },
 "nbformat": 4,
 "nbformat_minor": 4
}
