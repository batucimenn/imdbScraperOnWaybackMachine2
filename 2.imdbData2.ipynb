{
 "cells": [
  {
   "cell_type": "markdown",
   "metadata": {},
   "source": [
    "Scraper all data(movies, series... ) from Imdb"
   ]
  },
  {
   "cell_type": "code",
   "execution_count": null,
   "metadata": {},
   "outputs": [],
   "source": [
    "import csv"
   ]
  },
  {
   "cell_type": "markdown",
   "metadata": {},
   "source": [
    "Year range to collect data."
   ]
  },
  {
   "cell_type": "code",
   "execution_count": null,
   "metadata": {},
   "outputs": [],
   "source": [
    "startYear=int(input(\"startYear: \"))\n",
    "finishYear=int(input(\"finishYear: \"))"
   ]
  },
  {
   "cell_type": "markdown",
   "metadata": {},
   "source": [
    "File path to save."
   ]
  },
  {
   "cell_type": "code",
   "execution_count": null,
   "metadata": {},
   "outputs": [],
   "source": [
    "filePath = input(\"File path: \"+\"r'\")+(\"/\")"
   ]
  },
  {
   "cell_type": "markdown",
   "metadata": {},
   "source": [
    "Create csv and set the titles."
   ]
  },
  {
   "cell_type": "code",
   "execution_count": null,
   "metadata": {},
   "outputs": [],
   "source": [
    "with open(filePath+str(startYear)+\"_\"+str(finishYear)+\".csv\", mode='w', newline='') as newFile:\n",
    "    newWriter = csv.writer(newFile, delimiter=',', quotechar='\"', quoting=csv.QUOTE_MINIMAL) \n",
    "    newWriter.writerow(['Title'+\";\"+'Film'+\";\"+'Year'])\n",
    "    newFile.close()"
   ]
  },
  {
   "cell_type": "markdown",
   "metadata": {},
   "source": [
    "Download title.basics.tsv.gz from https://datasets.imdbws.com/ . Extract data.tsv\n",
    "Print it into csv."
   ]
  },
  {
   "cell_type": "code",
   "execution_count": null,
   "metadata": {},
   "outputs": [],
   "source": [
    "with open(\"data.tsv\",encoding=\"utf8\") as tsvfile:\n",
    "    tsvreader = csv.reader(tsvfile, delimiter=\"\\t\")\n",
    "    for line in tsvreader:\n",
    "        try:\n",
    "            integer=int(line[5])\n",
    "            if(integer>=startYear and integer<=finishYear and line[6]==\"\\\\N\"):\n",
    "                print(line[0]+\";\"+line[3]+\";\"+line[5])\n",
    "                yillar=(line[0]+\";\"+line[3]+\";\"+line[5])\n",
    "                with open(filePath+str(startYear)+\"_\"+str(finishYear)+\".csv\", mode='a', newline='') as newFile:\n",
    "                    newWriter = csv.writer(newFile, delimiter=',', quotechar='\"', quoting=csv.QUOTE_MINIMAL) \n",
    "                    newWriter.writerow([line[0]+\";\"+line[3]+\";\"+line[5]])\n",
    "                    newFile.close()\n",
    "        except:\n",
    "            pass\n",
    "         "
   ]
  }
 ],
 "metadata": {
  "kernelspec": {
   "display_name": "Python 3",
   "language": "python",
   "name": "python3"
  },
  "language_info": {
   "codemirror_mode": {
    "name": "ipython",
    "version": 3
   },
   "file_extension": ".py",
   "mimetype": "text/x-python",
   "name": "python",
   "nbconvert_exporter": "python",
   "pygments_lexer": "ipython3",
   "version": "3.8.3"
  }
 },
 "nbformat": 4,
 "nbformat_minor": 4
}
