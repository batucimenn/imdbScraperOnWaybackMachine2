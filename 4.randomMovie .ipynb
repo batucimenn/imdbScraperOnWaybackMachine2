{
 "cells": [
  {
   "cell_type": "markdown",
   "metadata": {},
   "source": [
    "Enter the number you want to scraper randomly, write it to the file. Write the rest to another file."
   ]
  },
  {
   "cell_type": "code",
   "execution_count": null,
   "metadata": {},
   "outputs": [],
   "source": [
    "import pandas as pd\n",
    "import numpy as np\n",
    "import csv\n",
    "import requests as rq\n",
    "import json"
   ]
  },
  {
   "cell_type": "markdown",
   "metadata": {},
   "source": [
    "Filename entry. Ex: films.csv"
   ]
  },
  {
   "cell_type": "code",
   "execution_count": null,
   "metadata": {},
   "outputs": [],
   "source": [
    "fileName = input(\"File name: \")"
   ]
  },
  {
   "cell_type": "markdown",
   "metadata": {},
   "source": [
    "Random movie count entry."
   ]
  },
  {
   "cell_type": "code",
   "execution_count": null,
   "metadata": {},
   "outputs": [],
   "source": [
    "randomMovieCount = input(\"Random movie count: \")"
   ]
  },
  {
   "cell_type": "markdown",
   "metadata": {},
   "source": [
    "How many html files should the movie contain at least?"
   ]
  },
  {
   "cell_type": "code",
   "execution_count": null,
   "metadata": {},
   "outputs": [],
   "source": [
    "htmlCount = str(input(\"Html count: \"))"
   ]
  },
  {
   "cell_type": "code",
   "execution_count": null,
   "metadata": {},
   "outputs": [],
   "source": [
    "config1=pd.read_csv(fileName, sep=';', encoding='latin-1')"
   ]
  },
  {
   "cell_type": "code",
   "execution_count": null,
   "metadata": {},
   "outputs": [],
   "source": [
    "df=config1.drop('Film', axis=1)"
   ]
  },
  {
   "cell_type": "code",
   "execution_count": null,
   "metadata": {},
   "outputs": [],
   "source": [
    "df2=df.drop('Year', axis=1)"
   ]
  },
  {
   "cell_type": "markdown",
   "metadata": {},
   "source": [
    "If the csv file contains 1 column of shifted data: df3=df2.drop('Unnamed: 3',axis=1)"
   ]
  },
  {
   "cell_type": "code",
   "execution_count": null,
   "metadata": {},
   "outputs": [],
   "source": [
    "df3 = df2"
   ]
  },
  {
   "cell_type": "code",
   "execution_count": null,
   "metadata": {},
   "outputs": [],
   "source": [
    "with open(\"random\"+randomMovieCount+\".csv\", mode='w', newline='') as newFile:\n",
    "    newWriter = csv.writer(newFile, delimiter=',', quotechar='\"', quoting=csv.QUOTE_MINIMAL) \n",
    "    newWriter.writerow(['Title'])\n",
    "    newFile.close()"
   ]
  },
  {
   "cell_type": "code",
   "execution_count": null,
   "metadata": {},
   "outputs": [],
   "source": [
    "with open(\"nonrandom\"+randomMovieCount+\".csv\", mode='w', newline='') as newFile:\n",
    "    newWriter = csv.writer(newFile, delimiter=',', quotechar='\"', quoting=csv.QUOTE_MINIMAL) \n",
    "    newWriter.writerow(['Title'])\n",
    "    newFile.close()"
   ]
  },
  {
   "cell_type": "code",
   "execution_count": null,
   "metadata": {},
   "outputs": [],
   "source": [
    "a=0\n",
    "limit=0\n",
    "while a < int(randomMovieCount):\n",
    "    try:\n",
    "        a += 1\n",
    "        randomValue=np.random.randint(1,len(df3))\n",
    "        randomIndex=df3.iloc[randomValue]\n",
    "        onlyTitles=randomIndex['Title']\n",
    "        url = 'http://web.archive.org/cdx/search/cdx?url='+'https://www.imdb.com/title/'+onlyTitles+'/&collapse=digest&from=20070228&to=2022&output=json'\n",
    "        print(url)\n",
    "        urls = rq.get(url).text\n",
    "        parse_url = json.loads(urls)\n",
    "        url_list = []\n",
    "        for i in range(1,len(parse_url)):\n",
    "            try:\n",
    "                orig_url = parse_url[i][2]\n",
    "                tstamp = parse_url[i][1]\n",
    "                waylink = 'https://web.archive.org/web/'+tstamp+'/'+orig_url\n",
    "                url_list.append(waylink)\n",
    "            except:\n",
    "                pass\n",
    "        print(len(url_list))\n",
    "        if len(url_list)>htmlCount:\n",
    "            limit+=1\n",
    "             #Choose over 1000 movies that meet your requirements from a random selection of movies\n",
    "            if limit <1000: \n",
    "                with open(\"random\"+randomMovieCount+\".csv\", mode='a', newline='') as newFile:\n",
    "                        newWriter = csv.writer(newFile, delimiter=',', quotechar='\"', quoting=csv.QUOTE_MINIMAL) \n",
    "                        newWriter.writerow([onlyTitles])\n",
    "                        newFile.close()             \n",
    "                print(randomIndex['Title'])\n",
    "                print(limit)\n",
    "    except:\n",
    "        pass"
   ]
  },
  {
   "cell_type": "code",
   "execution_count": null,
   "metadata": {},
   "outputs": [],
   "source": [
    "config2=pd.read_csv('random'+randomMovieCount+'.csv', sep=';', encoding='latin-1')"
   ]
  },
  {
   "cell_type": "code",
   "execution_count": null,
   "metadata": {},
   "outputs": [],
   "source": [
    "for i in df3:\n",
    "    url_list = df3[i]\n"
   ]
  },
  {
   "cell_type": "code",
   "execution_count": null,
   "metadata": {},
   "outputs": [],
   "source": [
    "for i in config2:\n",
    "    url_list2 = config2[i]"
   ]
  },
  {
   "cell_type": "code",
   "execution_count": null,
   "metadata": {},
   "outputs": [],
   "source": [
    "url_list3 = np.setdiff1d(url_list,url_list2)\n",
    "    "
   ]
  },
  {
   "cell_type": "code",
   "execution_count": null,
   "metadata": {},
   "outputs": [],
   "source": [
    "for i in url_list3:\n",
    "    print(i)\n",
    "    with open(\"nonrandom\"+randomMovieCount+\".csv\", mode='a', newline='') as newFile:\n",
    "                    newWriter = csv.writer(newFile, delimiter=',', quotechar='\"', quoting=csv.QUOTE_MINIMAL) \n",
    "                    newWriter.writerow([i])\n",
    "                    newFile.close() "
   ]
  },
  {
   "cell_type": "code",
   "execution_count": null,
   "metadata": {},
   "outputs": [],
   "source": []
  }
 ],
 "metadata": {
  "kernelspec": {
   "display_name": "Python 3",
   "language": "python",
   "name": "python3"
  },
  "language_info": {
   "codemirror_mode": {
    "name": "ipython",
    "version": 3
   },
   "file_extension": ".py",
   "mimetype": "text/x-python",
   "name": "python",
   "nbconvert_exporter": "python",
   "pygments_lexer": "ipython3",
   "version": "3.8.3"
  }
 },
 "nbformat": 4,
 "nbformat_minor": 4
}
